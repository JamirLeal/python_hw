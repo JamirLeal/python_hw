{
 "cells": [
  {
   "cell_type": "code",
   "execution_count": 1,
   "metadata": {},
   "outputs": [],
   "source": [
    "from deap import base, creator, algorithms, tools, gp\n",
    "from sklearn.metrics import mean_absolute_error\n",
    "import operator\n",
    "import random\n",
    "import numpy as np"
   ]
  },
  {
   "cell_type": "code",
   "execution_count": 2,
   "metadata": {},
   "outputs": [],
   "source": [
    "toolbox = base.Toolbox()"
   ]
  },
  {
   "cell_type": "code",
   "execution_count": 3,
   "metadata": {},
   "outputs": [],
   "source": [
    "# Input datasets.\n",
    "x = [(0, 10), (1, 9), (2, 8), (3, 7), (4, 6), (5, 5), (6, 4), (7, 3), (8, 2), (9, 1)]\n",
    "y = [90, 82, 74, 66, 58, 50, 42, 34, 26, 18]"
   ]
  },
  {
   "cell_type": "code",
   "execution_count": 4,
   "metadata": {},
   "outputs": [],
   "source": [
    "# Split the x into x0 and x1.\n",
    "x0 = [val[0] for val in x]\n",
    "x1 = [val[1] for val in x]"
   ]
  },
  {
   "cell_type": "code",
   "execution_count": 5,
   "metadata": {},
   "outputs": [],
   "source": [
    "# Custom div function.\n",
    "def div(a, b):\n",
    "    try:\n",
    "        return a/b\n",
    "    except:\n",
    "        return 0"
   ]
  },
  {
   "cell_type": "code",
   "execution_count": 6,
   "metadata": {},
   "outputs": [],
   "source": [
    "# Function to evaluate a solution.\n",
    "def eval_func(ind, input0, input1, expected_output):\n",
    "    func_eval = toolbox.compile(expr=ind)\n",
    "    predictions = list(map(func_eval, input0, input1))\n",
    "    return abs(mean_absolute_error(expected_output, predictions)),"
   ]
  },
  {
   "cell_type": "code",
   "execution_count": 7,
   "metadata": {},
   "outputs": [],
   "source": [
    "# Function to evaluate a solution.\n",
    "def eval_func(ind, input0, input1, expected_output):\n",
    "    func_eval = toolbox.compile(expr=ind)\n",
    "    predictions = list(map(func_eval, input0, input1))\n",
    "    return abs(mean_absolute_error(expected_output, predictions)),"
   ]
  },
  {
   "cell_type": "code",
   "execution_count": 8,
   "metadata": {},
   "outputs": [],
   "source": [
    "# Select number of inputs and define operators.\n",
    "pset = gp.PrimitiveSet('Main', 2)\n",
    "pset.addPrimitive(operator.add, 2)\n",
    "pset.addPrimitive(operator.mul, 2)\n",
    "pset.addPrimitive(operator.sub, 2)\n",
    "pset.addPrimitive(div, 2)"
   ]
  },
  {
   "cell_type": "code",
   "execution_count": 9,
   "metadata": {},
   "outputs": [],
   "source": [
    "# Assign names to the arguments.\n",
    "pset.renameArguments(ARG0='x0', ARG1='x1')\n",
    "pset.addEphemeralConstant('R', lambda: random.randint(0, 10))"
   ]
  },
  {
   "cell_type": "code",
   "execution_count": 10,
   "metadata": {},
   "outputs": [],
   "source": [
    "# Try to minimize usign a tree structure.\n",
    "creator.create('FitnessMin', base.Fitness, weights=(-1.0,))\n",
    "creator.create('Individual', gp.PrimitiveTree, fitness=creator.FitnessMin, pset=pset)\n",
    "\n",
    "toolbox.register('expr', gp.genHalfAndHalf, pset=pset, min_=3, max_=5)\n",
    "toolbox.register('select', tools.selTournament, tournsize=2)\n",
    "toolbox.register('mate', gp.cxOnePoint)\n",
    "toolbox.register('mutate', gp.mutNodeReplacement, pset=pset)\n",
    "toolbox.register('evaluate', eval_func, input0=x0, input1=x1, expected_output=y)\n",
    "toolbox.register('compile', gp.compile, pset=pset)\n",
    "\n",
    "toolbox.register('individual', tools.initIterate, creator.Individual, toolbox.expr)\n",
    "toolbox.register('population', tools.initRepeat, list, toolbox.individual)\n",
    "\n",
    "stats = tools.Statistics(key=lambda ind: ind.fitness.values)\n",
    "stats.register(\"max\", np.max)\n",
    "stats.register(\"min\", np.min)\n",
    "stats.register(\"avg\", np.mean)\n",
    "stats.register(\"std\", np.std)"
   ]
  },
  {
   "cell_type": "code",
   "execution_count": 11,
   "metadata": {},
   "outputs": [
    {
     "name": "stdout",
     "output_type": "stream",
     "text": [
      "gen\tnevals\tmax    \tmin    \tavg    \tstd    \n",
      "0  \t10    \t6485.72\t22.8571\t703.519\t1927.58\n",
      "1  \t10    \t564.917\t18.2857\t102.794\t155.026\n",
      "2  \t10    \t1798   \t38.3   \t228.281\t523.366\n",
      "3  \t10    \t53.7401\t32.46  \t46.6309\t7.76338\n",
      "4  \t10    \t53.5746\t33     \t42.8603\t6.26052\n",
      "5  \t10    \t235.9  \t37.5857\t77.5561\t65.7126\n",
      "6  \t10    \t56.54  \t14.3886\t41.7549\t10.7573\n",
      "7  \t10    \t52.4371\t12.1714\t32.8123\t13.6654\n",
      "8  \t10    \t45.68  \t8.9    \t29.6267\t14.4443\n",
      "9  \t10    \t42.9507\t6.8    \t23.6508\t12.3144\n",
      "10 \t10    \t45     \t8.24286\t19.3514\t12.1496\n",
      "add(x0, add(add(x0, x0), sub(mul(x1, x1), 0)))\n",
      "Results of the best 1 value: 6.8\n",
      "add(x0, add(add(add(x0, x0), sub(x1, x1)), sub(mul(add(0, sub(x1, mul(1, div(x0, 7)))), x1), 0)))\n",
      "Results of the best 2 value: 8.242857142857144\n",
      "add(x0, add(x0, sub(mul(x1, x1), 0)))\n",
      "Results of the best 3 value: 8.9\n",
      "add(x0, add(add(x0, sub(x1, x1)), sub(mul(x1, x1), 0)))\n",
      "Results of the best 4 value: 8.9\n",
      "add(x0, add(add(sub(mul(add(0, x0), x1), 0), x0), sub(mul(x1, x1), 0)))\n",
      "Results of the best 5 value: 10.0\n"
     ]
    }
   ],
   "source": [
    "# Get best historic five.\n",
    "hof = tools.HallOfFame(5)\n",
    "# Assign a population of 10.\n",
    "pop = toolbox.population(n=10)\n",
    "\n",
    "# Run ea simple.\n",
    "results, log = algorithms.eaSimple(pop, toolbox, cxpb=1.0, mutpb=0.1, ngen=10, stats=stats, halloffame=hof)\n",
    "\n",
    "# Print the operation and MAE for each one of the best five in the hall of fame.\n",
    "for index, ind in enumerate(hof):\n",
    "    print(ind)\n",
    "    print('Results of the best {} value: {}'.format(index+1, toolbox.evaluate(ind, input0=x0, input1=x1, expected_output=y)[0]))"
   ]
  }
 ],
 "metadata": {
  "interpreter": {
   "hash": "d132278442e6237b746d111e5e8f0ecb32ecf0be1c56b0c723b2eadf768a0e04"
  },
  "kernelspec": {
   "display_name": "Python 3.7.11 64-bit ('base': conda)",
   "language": "python",
   "name": "python3"
  },
  "language_info": {
   "codemirror_mode": {
    "name": "ipython",
    "version": 3
   },
   "file_extension": ".py",
   "mimetype": "text/x-python",
   "name": "python",
   "nbconvert_exporter": "python",
   "pygments_lexer": "ipython3",
   "version": "3.7.11"
  },
  "orig_nbformat": 4
 },
 "nbformat": 4,
 "nbformat_minor": 2
}
